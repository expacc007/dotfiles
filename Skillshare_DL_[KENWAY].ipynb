{
  "nbformat": 4,
  "nbformat_minor": 0,
  "metadata": {
    "colab": {
      "name": "Skillshare-DL [KENWAY].ipynb",
      "provenance": [],
      "collapsed_sections": [],
      "toc_visible": true,
      "include_colab_link": true
    },
    "kernelspec": {
      "name": "python3",
      "display_name": "Python 3"
    },
    "accelerator": "GPU",
    "widgets": {
      "application/vnd.jupyter.widget-state+json": {
        "caae9670bc674bd9ad8e361fc21343b7": {
          "model_module": "@jupyter-widgets/controls",
          "model_name": "ButtonModel",
          "model_module_version": "1.5.0",
          "state": {
            "_dom_classes": [],
            "_model_module": "@jupyter-widgets/controls",
            "_model_module_version": "1.5.0",
            "_model_name": "ButtonModel",
            "_view_count": null,
            "_view_module": "@jupyter-widgets/controls",
            "_view_module_version": "1.5.0",
            "_view_name": "ButtonView",
            "button_style": "warning",
            "description": "Installing",
            "disabled": true,
            "icon": "check",
            "layout": "IPY_MODEL_3ae7b5414278427a974f17d149f7cdef",
            "style": "IPY_MODEL_95da77588aca42fab47f8441cb25c6df",
            "tooltip": "Installing"
          }
        },
        "3ae7b5414278427a974f17d149f7cdef": {
          "model_module": "@jupyter-widgets/base",
          "model_name": "LayoutModel",
          "model_module_version": "1.2.0",
          "state": {
            "_model_module": "@jupyter-widgets/base",
            "_model_module_version": "1.2.0",
            "_model_name": "LayoutModel",
            "_view_count": null,
            "_view_module": "@jupyter-widgets/base",
            "_view_module_version": "1.2.0",
            "_view_name": "LayoutView",
            "align_content": null,
            "align_items": null,
            "align_self": null,
            "border": null,
            "bottom": null,
            "display": null,
            "flex": null,
            "flex_flow": null,
            "grid_area": null,
            "grid_auto_columns": null,
            "grid_auto_flow": null,
            "grid_auto_rows": null,
            "grid_column": null,
            "grid_gap": null,
            "grid_row": null,
            "grid_template_areas": null,
            "grid_template_columns": null,
            "grid_template_rows": null,
            "height": null,
            "justify_content": null,
            "justify_items": null,
            "left": null,
            "margin": null,
            "max_height": null,
            "max_width": null,
            "min_height": null,
            "min_width": null,
            "object_fit": null,
            "object_position": null,
            "order": null,
            "overflow": null,
            "overflow_x": null,
            "overflow_y": null,
            "padding": null,
            "right": null,
            "top": null,
            "visibility": null,
            "width": null
          }
        },
        "95da77588aca42fab47f8441cb25c6df": {
          "model_module": "@jupyter-widgets/controls",
          "model_name": "ButtonStyleModel",
          "model_module_version": "1.5.0",
          "state": {
            "_model_module": "@jupyter-widgets/controls",
            "_model_module_version": "1.5.0",
            "_model_name": "ButtonStyleModel",
            "_view_count": null,
            "_view_module": "@jupyter-widgets/base",
            "_view_module_version": "1.2.0",
            "_view_name": "StyleView",
            "button_color": null,
            "font_weight": ""
          }
        }
      }
    }
  },
  "cells": [
    {
      "cell_type": "markdown",
      "metadata": {
        "id": "view-in-github",
        "colab_type": "text"
      },
      "source": [
        "<a href=\"https://colab.research.google.com/github/expacc007/dotfiles/blob/main/Skillshare_DL_%5BKENWAY%5D.ipynb\" target=\"_parent\"><img src=\"https://colab.research.google.com/assets/colab-badge.svg\" alt=\"Open In Colab\"/></a>"
      ]
    },
    {
      "cell_type": "code",
      "metadata": {
        "id": "tTVkURopsAxH",
        "cellView": "form",
        "colab": {
          "base_uri": "https://localhost:8080/"
        },
        "outputId": "95c13568-b2cb-40e1-816b-e76e86735d7b"
      },
      "source": [
        "#@markdown <h3>⬅ Run This Cell to  Mount Gdrive\n",
        "from google.colab import drive\n",
        "drive.mount('/content/drive')"
      ],
      "execution_count": 1,
      "outputs": [
        {
          "output_type": "stream",
          "name": "stdout",
          "text": [
            "Mounted at /content/drive\n"
          ]
        }
      ]
    },
    {
      "cell_type": "markdown",
      "metadata": {
        "id": "oy6NiZ-mhVFX"
      },
      "source": [
        "# <img src='https://i.imgur.com/ZLv9ul7.jpg' height=\"60\" alt=\"RcloneLab\"/>"
      ]
    },
    {
      "cell_type": "code",
      "metadata": {
        "id": "xunEYHutBEv_",
        "cellView": "form",
        "colab": {
          "base_uri": "https://localhost:8080/",
          "height": 82,
          "referenced_widgets": [
            "caae9670bc674bd9ad8e361fc21343b7",
            "3ae7b5414278427a974f17d149f7cdef",
            "95da77588aca42fab47f8441cb25c6df"
          ]
        },
        "outputId": "9665c8b1-0577-4a18-db82-52eab406b615"
      },
      "source": [
        "#@markdown <h3>⬅️ Run This Cell to Install Skillshare-DL Requirements</h3>\n",
        "import random, string, urllib.request, json, getpass, os, IPython, uuid\n",
        "import ipywidgets as widgets\n",
        "\n",
        "from IPython.display import HTML, clear_output\n",
        "\n",
        "loadingBtn = widgets.Button(description = \"Installing\",\n",
        "                          disabled = True,\n",
        "                          button_style = 'warning', # 'success', 'info', 'warning', 'danger' or '' \n",
        "                          tooltip = \"Installing\",\n",
        "                          icon = 'check')\n",
        "display(loadingBtn)\n",
        "\n",
        "if not os.path.exists(\"/opt/python3.7\"):\n",
        "  get_ipython().system_raw(\"rm -rf /content/sample_data/ && sudo apt update && sudo apt install software-properties-common\")\n",
        "  get_ipython().system_raw(\"sudo add-apt-repository ppa:deadsnakes/ppa\")\n",
        "  get_ipython().system_raw(\"sudo apt install python3.7\")\n",
        "  get_ipython().system_raw(\"sudo apt install python3-pip\")\n",
        "  get_ipython().system_raw(\"python3.7 -m pip install --upgrade pip setuptools wheel\")\n",
        "  get_ipython().system_raw(\"git clone https://github.com/calvinhobbes23/Skillshare-DL.git /root/.Skillshare-DL\")\n",
        "  get_ipython().system_raw(\"rm -r /root/.Skillshare-DL/Skillshare_DL_[KENWAY].ipynb\")\n",
        "  clear_output()\n",
        "\n",
        "try:\n",
        "  get_ipython().system_raw(\"python3.7 -m pip -q install -r /root/.Skillshare-DL/requirements.txt\")\n",
        "  display(HTML(\"<center><h2 style=\\\"font-family:Trebuchet MS;color:#4f8bd6;\\\">Successfully Configured!</h2><br></center>\"))\n",
        "  \n",
        "except:\n",
        "  display(HTML(\"<center><h2 style=\\\"font-family:Trebuchet MS;color:#ff0000;\\\">Error Occured, Rerun the Cell!!</h2><br></center>\"))"
      ],
      "execution_count": 2,
      "outputs": [
        {
          "output_type": "display_data",
          "data": {
            "text/plain": [
              "<IPython.core.display.HTML object>"
            ],
            "text/html": [
              "<center><h2 style=\"font-family:Trebuchet MS;color:#4f8bd6;\">Successfully Configured!</h2><br></center>"
            ]
          },
          "metadata": {}
        }
      ]
    },
    {
      "cell_type": "code",
      "metadata": {
        "id": "GMcXn3WTIYfo",
        "cellView": "form",
        "colab": {
          "base_uri": "https://localhost:8080/"
        },
        "outputId": "605733ea-52ba-475f-9323-192b80c67d9c"
      },
      "source": [
        "#@markdown <h3>⬅️ Run this Cell to Download Skillshare Course</h3>\n",
        "Course_Link = \"https://www.skillshare.com/classes/YouTube-for-Beginners-How-to-Start-Grow-Your-YouTube-Channel/1956780612?via=user-profile\" #@param {type:\"string\"}\n",
        "!python3.7 /root/.Skillshare-DL/dl.py \"$Course_Link\""
      ],
      "execution_count": 3,
      "outputs": [
        {
          "output_type": "stream",
          "name": "stdout",
          "text": [
            "   \n",
            "                 ____  _    _ _ _     _                          ____  _     \n",
            "                / ___|| | _(_) | |___| |__   __ _ _ __ ___      |  _ \\| |    \n",
            "                \\___ \\| |/ / | | / __| '_ \\ / _` | '__/ _ \\_____| | | | |    \n",
            "                 ___) |   <| | | \\__ \\ | | | (_| | | |  __/_____| |_| | |___ \n",
            "                |____/|_|\\_\\_|_|_|___/_| |_|\\__,_|_|  \\___|     |____/|_____|  \n",
            "                             _ __ ___  _ _  _ _ _  ___  _ _ \n",
            "                            | / /| __>| \\ || | | || . || | |\n",
            "                            |  \\ | _> |   || | | ||   |\\   /\n",
            "                            |_\\_\\|___>|_\\_||__/_/ |_|_| |_| \n",
            "                    \n",
            "                    \n",
            "                        \n",
            "                     ####### #     # ####### #     #    #     #####  #    # \n",
            "                     #     # ##    # #       #     #   # #   #     # #   #  \n",
            "                     #     # # #   # #       #     #  #   #  #       #  #   \n",
            "                     #     # #  #  # #####   ####### #     # #       ###    \n",
            "                     #     # #   # # #       #     # ####### #       #  #   \n",
            "                     #     # #    ## #       #     # #     # #     # #   #  \n",
            "                     ####### #     # ####### #     # #     #  #####  #    # \n",
            "                                                                                                         \n",
            "                \n",
            "Downloading /content/Skillshare/aliabdaal/youtube-for-beginners-how-to-start-grow-your-youtube-channel/01 - welcome-to-the-class.mp4...\n",
            "[==================================================]\n",
            "\n",
            "Downloading /content/Skillshare/aliabdaal/youtube-for-beginners-how-to-start-grow-your-youtube-channel/02 - class-project.mp4...\n",
            "[==================================================]\n",
            "\n",
            "Downloading /content/Skillshare/aliabdaal/youtube-for-beginners-how-to-start-grow-your-youtube-channel/03 - why-start-a-youtube-channel.mp4...\n",
            "[==================================================]\n",
            "\n",
            "Downloading /content/Skillshare/aliabdaal/youtube-for-beginners-how-to-start-grow-your-youtube-channel/04 - what-to-make-videos-about.mp4...\n",
            "[==================================================]\n",
            "\n",
            "Downloading /content/Skillshare/aliabdaal/youtube-for-beginners-how-to-start-grow-your-youtube-channel/05 - overcome-the-fear-of-getting-started.mp4...\n",
            "[==================================================]\n",
            "\n",
            "Downloading /content/Skillshare/aliabdaal/youtube-for-beginners-how-to-start-grow-your-youtube-channel/06 - starting-your-new-channel.mp4...\n",
            "[==================================================]\n",
            "\n",
            "Downloading /content/Skillshare/aliabdaal/youtube-for-beginners-how-to-start-grow-your-youtube-channel/07 - create-your-youtube-account.mp4...\n",
            "[==================================================]\n",
            "\n",
            "Downloading /content/Skillshare/aliabdaal/youtube-for-beginners-how-to-start-grow-your-youtube-channel/08 - choose-your-channel-s-visuals.mp4...\n",
            "[==================================================]\n",
            "\n",
            "Downloading /content/Skillshare/aliabdaal/youtube-for-beginners-how-to-start-grow-your-youtube-channel/09 - beat-perfectionism.mp4...\n",
            "[==================================================]\n",
            "\n",
            "Downloading /content/Skillshare/aliabdaal/youtube-for-beginners-how-to-start-grow-your-youtube-channel/10 - brainstorm-video-ideas.mp4...\n",
            "[==================================================]\n",
            "\n",
            "Downloading /content/Skillshare/aliabdaal/youtube-for-beginners-how-to-start-grow-your-youtube-channel/11 - script-your-video.mp4...\n",
            "[==================================================]\n",
            "\n",
            "Downloading /content/Skillshare/aliabdaal/youtube-for-beginners-how-to-start-grow-your-youtube-channel/12 - film-with-your-phone.mp4...\n",
            "[==================================================]\n",
            "\n",
            "Downloading /content/Skillshare/aliabdaal/youtube-for-beginners-how-to-start-grow-your-youtube-channel/13 - upgrading-your-camera-setup.mp4...\n",
            "[==================================================]\n",
            "\n",
            "Downloading /content/Skillshare/aliabdaal/youtube-for-beginners-how-to-start-grow-your-youtube-channel/14 - set-up-your-audio.mp4...\n",
            "[==================================================]\n",
            "\n",
            "Downloading /content/Skillshare/aliabdaal/youtube-for-beginners-how-to-start-grow-your-youtube-channel/15 - set-up-your-lighting.mp4...\n",
            "[==================================================]\n",
            "\n",
            "Downloading /content/Skillshare/aliabdaal/youtube-for-beginners-how-to-start-grow-your-youtube-channel/16 - perfect-your-background.mp4...\n",
            "[==================================================]\n",
            "\n",
            "Downloading /content/Skillshare/aliabdaal/youtube-for-beginners-how-to-start-grow-your-youtube-channel/17 - talk-to-the-camera.mp4...\n",
            "[==================================================]\n",
            "\n",
            "Downloading /content/Skillshare/aliabdaal/youtube-for-beginners-how-to-start-grow-your-youtube-channel/18 - set-up-your-first-video.mp4...\n",
            "[==================================================]\n",
            "\n",
            "Downloading /content/Skillshare/aliabdaal/youtube-for-beginners-how-to-start-grow-your-youtube-channel/19 - shoot-your-first-video.mp4...\n",
            "[==================================================]\n",
            "\n",
            "Downloading /content/Skillshare/aliabdaal/youtube-for-beginners-how-to-start-grow-your-youtube-channel/20 - shoot-your-b-roll.mp4...\n",
            "[==================================================]\n",
            "\n",
            "Downloading /content/Skillshare/aliabdaal/youtube-for-beginners-how-to-start-grow-your-youtube-channel/21 - shoot-your-thumbnail.mp4...\n",
            "[==================================================]\n",
            "\n",
            "Downloading /content/Skillshare/aliabdaal/youtube-for-beginners-how-to-start-grow-your-youtube-channel/22 - edit-your-footage.mp4...\n",
            "[==================================================]\n",
            "\n",
            "Downloading /content/Skillshare/aliabdaal/youtube-for-beginners-how-to-start-grow-your-youtube-channel/23 - upload-your-video-to-youtube.mp4...\n",
            "[==================================================]\n",
            "\n",
            "Downloading /content/Skillshare/aliabdaal/youtube-for-beginners-how-to-start-grow-your-youtube-channel/24 - grow-your-channel-6-tips.mp4...\n",
            "[==================================================]\n",
            "\n",
            "Downloading /content/Skillshare/aliabdaal/youtube-for-beginners-how-to-start-grow-your-youtube-channel/25 - bonus-10-tips-for-aspiring-youtubers.mp4...\n",
            "[==================================================]\n",
            "\n",
            "Downloading /content/Skillshare/aliabdaal/youtube-for-beginners-how-to-start-grow-your-youtube-channel/26 - make-youtube-fun.mp4...\n",
            "[==================================================]\n",
            "\n",
            "Downloading /content/Skillshare/aliabdaal/youtube-for-beginners-how-to-start-grow-your-youtube-channel/27 - final-thoughts.mp4...\n",
            "[==================================================]\n",
            "\n"
          ]
        }
      ]
    },
    {
      "cell_type": "code",
      "metadata": {
        "id": "W4DvOJaqsGaj",
        "cellView": "form"
      },
      "source": [
        "#@markdown <h3>⬅️ Run This Cell to  Move Downloaded Courses to Gdrive\n",
        "!mv /content/Skillshare \"/content/drive/My Drive/Skillshare-DL\""
      ],
      "execution_count": 4,
      "outputs": []
    }
  ]
}